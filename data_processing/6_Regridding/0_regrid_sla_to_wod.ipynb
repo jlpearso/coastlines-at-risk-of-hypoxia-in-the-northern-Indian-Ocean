{
 "cells": [
  {
   "cell_type": "markdown",
   "metadata": {},
   "source": [
    "# Setup"
   ]
  },
  {
   "cell_type": "code",
   "execution_count": 1,
   "metadata": {},
   "outputs": [],
   "source": [
    "# import packages\n",
    "%run ../../global_packages.py\n",
    "\n",
    "# get the global parameters\n",
    "%run ../../global_pars.py\n",
    "\n",
    "# import your local functions\n",
    "sys.path.insert(1, '../../')\n",
    "from global_functions import *\n",
    "\n",
    "# make sure the figures plot inline rather than at the end\n",
    "%matplotlib inline"
   ]
  },
  {
   "cell_type": "markdown",
   "metadata": {},
   "source": [
    "# Paths and Parameters"
   ]
  },
  {
   "cell_type": "code",
   "execution_count": 2,
   "metadata": {},
   "outputs": [],
   "source": [
    "outfn = 'sla_to_wod.nc'\n",
    "\n",
    "ds_out = xr.Dataset()"
   ]
  },
  {
   "cell_type": "markdown",
   "metadata": {},
   "source": [
    "# Read Data"
   ]
  },
  {
   "cell_type": "code",
   "execution_count": 3,
   "metadata": {},
   "outputs": [
    {
     "data": {
      "text/plain": [
       "<xarray.Dataset>\n",
       "Dimensions:           (day_time: 10013, lat: 138, loc_list: 6, lon: 216, month: 12, no_stations: 505, time: 329)\n",
       "Coordinates:\n",
       "  * lon               (lon) float64 48.62 48.88 49.12 ... 101.9 102.1 102.4\n",
       "  * lat               (lat) float64 -1.375 -1.125 -0.875 ... 32.38 32.62 32.88\n",
       "  * time              (time) datetime64[ns] 1993-01-01 1993-02-01 ... 2020-05-01\n",
       "  * day_time          (day_time) datetime64[ns] 1993-01-01 ... 2020-05-31\n",
       "  * month             (month) int64 1 2 3 4 5 6 7 8 9 10 11 12\n",
       "  * no_stations       (no_stations) float64 1.0 2.0 3.0 ... 503.0 504.0 505.0\n",
       "  * loc_list          (loc_list) int64 0 75 225 294 415 504\n",
       "Data variables:\n",
       "    daily_sla         (day_time, lat, lon) float64 ...\n",
       "    mon_sla           (time, lat, lon) float64 ...\n",
       "    mon_sla_mon_clim  (month, lat, lon) float64 ...\n",
       "    mon_sla_mon_anom  (time, lat, lon) float64 ...\n",
       "    sta_loninds       (no_stations) int64 ...\n",
       "    sta_latinds       (no_stations) int64 ...\n",
       "    sta_lon           (no_stations) float32 ...\n",
       "    sta_lat           (no_stations) float32 ..."
      ]
     },
     "execution_count": 3,
     "metadata": {},
     "output_type": "execute_result"
    }
   ],
   "source": [
    "ds_SLA = xr.open_dataset('../2_SLA/sla_processed.nc')\n",
    "ds_SLA"
   ]
  },
  {
   "cell_type": "code",
   "execution_count": 4,
   "metadata": {},
   "outputs": [
    {
     "data": {
      "text/plain": [
       "<xarray.Dataset>\n",
       "Dimensions:           (depth: 97, time: 316656)\n",
       "Coordinates:\n",
       "  * time              (time) datetime64[ns] 1958-01-02 1958-01-02 ... 2020-05-31\n",
       "  * depth             (depth) int64 0 5 10 15 20 25 ... 4600 4700 4800 4900 5000\n",
       "Data variables:\n",
       "    temp              (time, depth) float64 ...\n",
       "    sal               (time, depth) float64 ...\n",
       "    doxy              (time, depth) float64 ...\n",
       "    nitrate           (time, depth) float64 ...\n",
       "    phosphate         (time, depth) float64 ...\n",
       "    lat               (time) float32 ...\n",
       "    lon               (time) float32 ...\n",
       "    cast_id           (time) object ...\n",
       "    temp_40_200       (time) float64 ...\n",
       "    doxy_40_200       (time) float64 ...\n",
       "    sal_40_200        (time) float64 ...\n",
       "    nitrate_40_200    (time) float64 ...\n",
       "    phosphate_40_200  (time) float64 ...\n",
       "    temp_50_200       (time) float64 ...\n",
       "    doxy_50_200       (time) float64 ...\n",
       "    sal_50_200        (time) float64 ...\n",
       "    nitrate_50_200    (time) float64 ...\n",
       "    phosphate_50_200  (time) float64 ...\n",
       "    sol_50_200        (time) float64 ...\n",
       "    temp_50_225       (time) float64 ...\n",
       "    doxy_50_225       (time) float64 ...\n",
       "    sal_50_225        (time) float64 ...\n",
       "    nitrate_50_225    (time) float64 ...\n",
       "    phosphate_50_225  (time) float64 ..."
      ]
     },
     "execution_count": 4,
     "metadata": {},
     "output_type": "execute_result"
    }
   ],
   "source": [
    "ds_WOD = xr.open_dataset('../0_WOD/wod_processed.nc')\n",
    "ds_WOD"
   ]
  },
  {
   "cell_type": "code",
   "execution_count": 5,
   "metadata": {},
   "outputs": [
    {
     "data": {
      "text/plain": [
       "<xarray.Dataset>\n",
       "Dimensions:    (latn: 138, latw: 138, loc_wod: 316656, lonn: 216, lonw: 216)\n",
       "Coordinates:\n",
       "  * latw       (latw) float64 -1.375 -1.125 -0.875 -0.625 ... 32.38 32.62 32.88\n",
       "  * lonw       (lonw) float64 48.62 48.88 49.12 49.38 ... 101.9 102.1 102.4\n",
       "  * latn       (latn) float64 -1.5 -1.25 -1.0 -0.75 ... 32.0 32.25 32.5 32.75\n",
       "  * lonn       (lonn) float64 48.5 48.75 49.0 49.25 ... 101.5 101.8 102.0 102.2\n",
       "  * loc_wod    (loc_wod) int64 0 1 2 3 4 ... 316651 316652 316653 316654 316655\n",
       "Data variables:\n",
       "    maskw      (latw, lonw) int64 ...\n",
       "    maskn      (latn, lonn) float64 ...\n",
       "    maskw_wod  (loc_wod) bool ...\n",
       "    maskn_wod  (loc_wod) bool ..."
      ]
     },
     "execution_count": 5,
     "metadata": {},
     "output_type": "execute_result"
    }
   ],
   "source": [
    "ds_mask = xr.open_dataset('../1_WOD_Coastal/IO_coastal_mask.nc')\n",
    "ds_mask"
   ]
  },
  {
   "cell_type": "markdown",
   "metadata": {},
   "source": [
    "# Regrid"
   ]
  },
  {
   "cell_type": "code",
   "execution_count": 6,
   "metadata": {},
   "outputs": [
    {
     "name": "stderr",
     "output_type": "stream",
     "text": [
      "100%|██████████| 9682/9682 [1:09:13<00:00,  2.18it/s]\n"
     ]
    }
   ],
   "source": [
    "# find unique time values of wod data\n",
    "time_key = np.unique(ds_WOD.time)\n",
    "\n",
    "# find all the days there are measurements\n",
    "full_ind = np.full((ds_SLA.daily_sla.shape[0]),False)\n",
    "\n",
    "for tt in range(time_key.shape[0]):\n",
    "    ind = ds_SLA.daily_sla.day_time == time_key[tt]\n",
    "    full_ind = full_ind + ind\n",
    "\n",
    "# take only times where awg measurements were made\n",
    "sla = np.array(ds_SLA.daily_sla[full_ind,:,:])\n",
    "sla_time = np.array(ds_SLA.daily_sla.day_time[full_ind])\n",
    "\n",
    "xx,yy = np.meshgrid(ds_SLA.lon,ds_SLA.lat)\n",
    "xx = xx.flatten()\n",
    "yy = yy.flatten()\n",
    "\n",
    "lons= np.array(ds_WOD.lon)\n",
    "lats = np.array(ds_WOD.lat)\n",
    "times = np.array(ds_WOD.time)\n",
    "\n",
    "daily_sla_WOD = np.zeros(len(times))*np.nan\n",
    "lon_WOD = np.zeros(len(times))*np.nan\n",
    "lat_WOD = np.zeros(len(times))*np.nan\n",
    "time_WOD = np.array(ds_WOD.time)\n",
    "\n",
    "for tt in tqdm(range(sla.shape[0])):\n",
    "    \n",
    "    sla_tmp = np.array(sla[tt,:,:])\n",
    "    indq = times == sla_time[tt]\n",
    "    lonq = lons[indq]\n",
    "    latq = lats[indq]\n",
    "\n",
    "    # find the lons and lats of TCD vals at this time\n",
    "\n",
    "    points = np.array( (xx,yy) ).T\n",
    "    values = sla_tmp.flatten()\n",
    "\n",
    "\n",
    "    daily_sla_WOD[indq] = griddata(points, values, (lonq,latq) ,method='linear' )\n",
    "    lon_WOD[indq] = lonq\n",
    "    lat_WOD[indq] = latq\n",
    "\n"
   ]
  },
  {
   "cell_type": "code",
   "execution_count": 7,
   "metadata": {},
   "outputs": [],
   "source": [
    "# add variables to dataset\n",
    "\n",
    "# WOD\n",
    "ds_out[\"daily_sla\"]=xr.DataArray(daily_sla_WOD,dims = ['time'],\n",
    "                     coords =[time_WOD])\n",
    "ds_out[\"lon\"]=xr.DataArray(lon_WOD,dims = ['time'],\n",
    "                     coords =[time_WOD])\n",
    "ds_out[\"lat\"]=xr.DataArray(lat_WOD,dims = ['time'],\n",
    "                     coords =[time_WOD])"
   ]
  },
  {
   "cell_type": "markdown",
   "metadata": {},
   "source": [
    "# Convert to Coastal"
   ]
  },
  {
   "cell_type": "code",
   "execution_count": 8,
   "metadata": {},
   "outputs": [
    {
     "data": {
      "image/png": "[encoded data removed]",
      "text/plain": [
       "<Figure size 432x288 with 1 Axes>"
      ]
     },
     "metadata": {
      "needs_background": "light"
     },
     "output_type": "display_data"
    }
   ],
   "source": [
    "#############################################################\n",
    "#----------------- Western Arabian Sea ---------------------#\n",
    "#############################################################\n",
    "\n",
    "ind_wAS = ((ds_WOD.lon <= bounds_wAS[1]) & (ds_WOD.lon >= bounds_wAS[0]) & \n",
    "              (ds_WOD.lat <= bounds_wAS[3]) & (ds_WOD.lat >= bounds_wAS[2]))\n",
    "\n",
    "#subset gridded data\n",
    "sla_wAS = ds_out.daily_sla[ind_wAS]\n",
    "lat_wAS = ds_WOD.lat[ind_wAS]\n",
    "lon_wAS = ds_WOD.lon[ind_wAS]\n",
    "time_wAS = ds_WOD.time[ind_wAS]\n",
    "mask_wAS = np.array(ds_mask.maskn_wod)[ind_wAS]\n",
    "    \n",
    "# convert to coastal\n",
    "sla_wAS = sla_wAS[mask_wAS]\n",
    "lat_wAS = lat_wAS[mask_wAS]\n",
    "lon_wAS = lon_wAS[mask_wAS]\n",
    "time_wAS = time_wAS[mask_wAS]\n",
    "\n",
    "#############################################################\n",
    "#----------------- Eastern Arabian Sea ---------------------#\n",
    "#############################################################\n",
    "\n",
    "ind_eAS = ((ds_WOD.lon <= bounds_eAS[1]) & (ds_WOD.lon >= bounds_eAS[0]) & \n",
    "              (ds_WOD.lat <= bounds_eAS[3]) & (ds_WOD.lat >= bounds_eAS[2])) \n",
    "ind_eAS_SL = ((ds_WOD.lon < bounds_eAS_SL[1]) & (ds_WOD.lon > bounds_eAS_SL[0]) & \n",
    "              (ds_WOD.lat < bounds_eAS_SL[3]) & (ds_WOD.lat > bounds_eAS_SL[2])) \n",
    "\n",
    "#subset gridded data\n",
    "sla_eAS = xr.concat((ds_out.daily_sla[ind_eAS],ds_out.daily_sla[ind_eAS_SL]), dim = 'time')\n",
    "lat_eAS = xr.concat((ds_WOD.lat[ind_eAS],ds_WOD.lat[ind_eAS_SL]), dim = 'time')\n",
    "lon_eAS = xr.concat((ds_WOD.lon[ind_eAS],ds_WOD.lon[ind_eAS_SL]), dim = 'time')\n",
    "time_eAS = sla_eAS.time\n",
    "mask_eAS = np.array(ds_mask.maskw_wod)\n",
    "mask_eAS = np.concatenate((mask_eAS[ind_eAS],mask_eAS[ind_eAS_SL]),0)\n",
    "\n",
    "# convert to coastal\n",
    "sla_eAS = sla_eAS[mask_eAS]\n",
    "lat_eAS = lat_eAS[mask_eAS]\n",
    "lon_eAS = lon_eAS[mask_eAS]\n",
    "time_eAS = time_eAS[mask_eAS]\n",
    "\n",
    "# sort by time\n",
    "sla_eAS = sla_eAS.sortby(time_eAS)\n",
    "lat_eAS = lat_eAS.sortby(time_eAS)\n",
    "lon_eAS = lon_eAS.sortby(time_eAS)\n",
    "time_eAS = time_eAS.sortby(time_eAS)\n",
    "\n",
    "#############################################################\n",
    "#---------------- Western Bay of Bengal --------------------#\n",
    "#############################################################\n",
    "\n",
    "ind_wBoB = ((ds_WOD.lon <= bounds_wBoB[1]) & (ds_WOD.lon >= bounds_wBoB[0]) & \n",
    "               (ds_WOD.lat <= bounds_wBoB[3]) & (ds_WOD.lat >= bounds_wBoB[2])) \n",
    "ind_wBoB_SL = ((ds_WOD.lon < bounds_wBoB_SL[1]) & (ds_WOD.lon > bounds_wBoB_SL[0]) & \n",
    "              (ds_WOD.lat < bounds_wBoB_SL[3]) & (ds_WOD.lat > bounds_wBoB_SL[2])) \n",
    "\n",
    "#subset gridded data\n",
    "sla_wBoB = xr.concat((ds_out.daily_sla[ind_wBoB],ds_out.daily_sla[ind_wBoB_SL]), dim = 'time')\n",
    "lat_wBoB = xr.concat((ds_WOD.lat[ind_wBoB],ds_WOD.lat[ind_wBoB_SL]), dim = 'time')\n",
    "lon_wBoB = xr.concat((ds_WOD.lon[ind_wBoB],ds_WOD.lon[ind_wBoB_SL]), dim = 'time')\n",
    "time_wBoB = sla_wBoB.time\n",
    "mask_wBoB = np.array(ds_mask.maskn_wod)\n",
    "mask_wBoB = np.concatenate((mask_wBoB[ind_wBoB],mask_wBoB[ind_wBoB_SL]),0)\n",
    "    \n",
    "# convert to coastal\n",
    "sla_wBoB = sla_wBoB[mask_wBoB]\n",
    "lat_wBoB = lat_wBoB[mask_wBoB]\n",
    "lon_wBoB = lon_wBoB[mask_wBoB]\n",
    "time_wBoB = time_wBoB[mask_wBoB]\n",
    "\n",
    "# sort by time\n",
    "sla_wBoB = sla_wBoB.sortby(time_wBoB)\n",
    "lat_wBoB = lat_wBoB.sortby(time_wBoB)\n",
    "lon_wBoB = lon_wBoB.sortby(time_wBoB)\n",
    "time_wBoB = time_wBoB.sortby(time_wBoB)\n",
    "\n",
    "#############################################################\n",
    "#---------------- Eastern Bay of Bengal --------------------#\n",
    "#############################################################\n",
    "\n",
    "ind_eBoB = ((ds_WOD.lon <= bounds_eBoB[1]) & (ds_WOD.lon >= bounds_eBoB[0]) & \n",
    "               (ds_WOD.lat <= bounds_eBoB[3]) & (ds_WOD.lat >= bounds_eBoB[2])) \n",
    "\n",
    "#subset gridded data\n",
    "sla_eBoB = ds_out.daily_sla[ind_eBoB]\n",
    "lat_eBoB = ds_WOD.lat[ind_eBoB]\n",
    "lon_eBoB = ds_WOD.lon[ind_eBoB]\n",
    "time_eBoB = ds_WOD.time[ind_eBoB]\n",
    "mask_eBoB = np.array(ds_mask.maskw_wod)[ind_eBoB]\n",
    "\n",
    "# convert to coastal\n",
    "sla_eBoB = sla_eBoB[mask_eBoB]\n",
    "lat_eBoB = lat_eBoB[mask_eBoB]\n",
    "lon_eBoB = lon_eBoB[mask_eBoB]\n",
    "time_eBoB = time_eBoB[mask_eBoB]\n",
    "\n",
    "plt.scatter(lon_eBoB,lat_eBoB,color = 'k', s = 1)\n",
    "plt.scatter(lon_wBoB,lat_wBoB,color = 'b', s = 1)\n",
    "plt.scatter(lon_eAS,lat_eAS,color = 'r', s = 1)\n",
    "plt.scatter(lon_wAS,lat_wAS,color = 'g', s = 1)\n",
    "\n",
    "#############################################################\n",
    "#---------------------- Save Data --------------------------#\n",
    "#############################################################\n",
    "ds_out['lat_wAS'] = xr.DataArray(lat_wAS,dims = ['time_wAS'],coords =[time_wAS])\n",
    "ds_out['lon_wAS'] = xr.DataArray(lon_wAS,dims = ['time_wAS'],coords =[time_wAS])\n",
    "ds_out['lat_eAS'] = xr.DataArray(lat_eAS,dims = ['time_eAS'],coords =[time_eAS])\n",
    "ds_out['lon_eAS'] = xr.DataArray(lon_eAS,dims = ['time_eAS'],coords =[time_eAS])\n",
    "ds_out['lat_wBoB'] = xr.DataArray(lat_wBoB,dims = ['time_wBoB'],coords =[time_wBoB])\n",
    "ds_out['lon_wBoB'] = xr.DataArray(lon_wBoB,dims = ['time_wBoB'],coords =[time_wBoB])\n",
    "ds_out['lat_eBoB'] = xr.DataArray(lat_eBoB,dims = ['time_eBoB'],coords =[time_eBoB])\n",
    "ds_out['lon_eBoB'] = xr.DataArray(lon_eBoB,dims = ['time_eBoB'],coords =[time_eBoB])\n",
    "\n",
    "# Western Arabian Sea\n",
    "ds_out['sla_wAS'] = xr.DataArray(sla_wAS,dims = ['time_wAS'],coords =[time_wAS])\n",
    "\n",
    "# Eastern Arabian Sea\n",
    "ds_out['sla_eAS'] = xr.DataArray(sla_eAS,dims = ['time_eAS'],coords =[time_eAS])\n",
    "\n",
    "# Western Bay of Bengal\n",
    "ds_out['sla_wBoB'] = xr.DataArray(sla_wBoB,dims = ['time_wBoB'],coords =[time_wBoB])\n",
    "\n",
    "# Eastern Bay of Bengal\n",
    "ds_out['sla_eBoB'] = xr.DataArray(sla_eBoB,dims = ['time_eBoB'],coords =[time_eBoB])\n",
    "\n"
   ]
  },
  {
   "cell_type": "code",
   "execution_count": 9,
   "metadata": {},
   "outputs": [
    {
     "data": {
      "text/plain": [
       "<xarray.Dataset>\n",
       "Dimensions:    (time: 316656, time_eAS: 21832, time_eBoB: 20458, time_wAS: 30300, time_wBoB: 2496)\n",
       "Coordinates:\n",
       "  * time       (time) datetime64[ns] 1958-01-02 1958-01-02 ... 2020-05-31\n",
       "  * time_wAS   (time_wAS) datetime64[ns] 1958-01-16 1958-01-16 ... 2020-05-23\n",
       "  * time_eAS   (time_eAS) datetime64[ns] 1958-01-02 1958-01-02 ... 2020-05-31\n",
       "  * time_wBoB  (time_wBoB) datetime64[ns] 1959-08-20 1959-08-26 ... 2020-05-28\n",
       "  * time_eBoB  (time_eBoB) datetime64[ns] 1958-02-05 1958-02-05 ... 2020-05-29\n",
       "Data variables:\n",
       "    daily_sla  (time) float64 nan nan nan nan ... 0.06474 0.05062 0.217 0.1077\n",
       "    lon        (time) float64 nan nan nan nan nan ... 89.98 60.41 57.72 67.64\n",
       "    lat        (time) float64 nan nan nan nan nan ... 3.584 0.153 15.84 13.86\n",
       "    lat_wAS    (time_wAS) float32 17.283333 17.283333 ... 16.702 16.689\n",
       "    lon_wAS    (time_wAS) float32 56.55 56.55 59.4 57.5 ... 53.946 54.473 54.967\n",
       "    lat_eAS    (time_eAS) float32 6.483333 6.9833336 ... 20.875845 15.705\n",
       "    lon_eAS    (time_eAS) float32 78.48333 76.86667 ... 66.40588 71.678\n",
       "    lat_wBoB   (time_wBoB) float32 7.6666665 8.3 7.483333 ... 15.978 16.02\n",
       "    lon_wBoB   (time_wBoB) float32 82.75 82.7 82.28333 ... 82.93 82.583 82.063\n",
       "    lat_eBoB   (time_eBoB) float32 12.916667 12.916667 ... 17.427 17.379\n",
       "    lon_eBoB   (time_eBoB) float32 96.833336 96.833336 ... 91.649 92.733\n",
       "    sla_wAS    (time_wAS) float64 nan nan nan nan ... 0.07168 0.02934 -0.02444\n",
       "    sla_eAS    (time_eAS) float64 nan nan nan nan ... 0.008607 0.08775 0.01235\n",
       "    sla_wBoB   (time_wBoB) float64 nan nan nan nan ... -0.0603 -0.01515 0.05962\n",
       "    sla_eBoB   (time_eBoB) float64 nan nan nan nan ... 0.02338 0.09437 0.1412"
      ]
     },
     "execution_count": 9,
     "metadata": {},
     "output_type": "execute_result"
    }
   ],
   "source": [
    "# delete if already present\n",
    "if os.path.isfile(outfn):\n",
    "    os.remove(outfn)\n",
    "\n",
    "ds_out.to_netcdf(outfn,mode='w',format = \"NETCDF4\")\n",
    "\n",
    "ds_out"
   ]
  },
  {
   "cell_type": "code",
   "execution_count": null,
   "metadata": {},
   "outputs": [],
   "source": []
  }
 ],
 "metadata": {
  "kernelspec": {
   "display_name": "Python 3",
   "language": "python",
   "name": "python3"
  },
  "language_info": {
   "codemirror_mode": {
    "name": "ipython",
    "version": 3
   },
   "file_extension": ".py",
   "mimetype": "text/x-python",
   "name": "python",
   "nbconvert_exporter": "python",
   "pygments_lexer": "ipython3",
   "version": "3.7.3"
  }
 },
 "nbformat": 4,
 "nbformat_minor": 2
}
