{
 "cells": [
  {
   "cell_type": "markdown",
   "metadata": {},
   "source": [
    "# Setup\n",
    "\n",
    "This script processes World Ocean Database Profiles.\n",
    "\n",
    "Please see pars.py and local_functions.py for global parameters and functions used in this study.\n",
    "\n",
    "See this documentation on ragged arrays supplied by NOAA: \n",
    "https://www.nodc.noaa.gov/OC5/WOD/netcdf_descr.html"
   ]
  },
  {
   "cell_type": "code",
   "execution_count": 1,
   "metadata": {},
   "outputs": [],
   "source": [
    "# import packages\n",
    "%run ../../global_packages.py\n",
    "\n",
    "# get the global parameters\n",
    "%run ../../global_pars.py\n",
    "\n",
    "# import your local functions\n",
    "sys.path.insert(1, '../../')\n",
    "from global_functions import *\n",
    "\n",
    "# make sure the figures plot inline rather than at the end\n",
    "%matplotlib inline"
   ]
  },
  {
   "cell_type": "markdown",
   "metadata": {},
   "source": [
    "# Parameters and Paths"
   ]
  },
  {
   "cell_type": "code",
   "execution_count": 2,
   "metadata": {},
   "outputs": [],
   "source": [
    "inpath = \"raw_data/concatenated/\"\n",
    "infn = 'all_casts_beginning_to_aug_2020_indian_ocean.nc'\n",
    "outfn = 'wod_processed.nc'"
   ]
  },
  {
   "cell_type": "markdown",
   "metadata": {},
   "source": [
    "# Get Data"
   ]
  },
  {
   "cell_type": "code",
   "execution_count": 3,
   "metadata": {},
   "outputs": [
    {
     "data": {
      "text/plain": [
       "<xarray.Dataset>\n",
       "Dimensions:    (cast: 342256, depth: 97)\n",
       "Coordinates:\n",
       "  * cast       (cast) int64 0 1 2 3 4 5 ... 342251 342252 342253 342254 342255\n",
       "  * depth      (depth) int64 0 5 10 15 20 25 ... 4500 4600 4700 4800 4900 5000\n",
       "Data variables:\n",
       "    time       (cast) datetime64[ns] ...\n",
       "    lat        (cast) float32 ...\n",
       "    lon        (cast) float32 ...\n",
       "    cast_id    (cast) object ...\n",
       "    temp       (cast, depth) float64 ...\n",
       "    sal        (cast, depth) float64 ...\n",
       "    doxy       (cast, depth) float64 ...\n",
       "    nitrate    (cast, depth) float64 ...\n",
       "    phosphate  (cast, depth) float64 ...\n",
       "Attributes:\n",
       "    date_created:           11/10/2021\n",
       "    unmerged_data_url:      https://www.ncei.noaa.gov/access/world-ocean-data...\n",
       "    geospatial_lat_extent:  decimal degrees north (-2.11,48.733334)\n",
       "    geospatial_lon_extent:  decimal degrees east (-163.332,102.5)\n",
       "    help_email:             OCLhelp@noaa.gov\n",
       "    history:                Merged ../latest/*.nc"
      ]
     },
     "execution_count": 3,
     "metadata": {},
     "output_type": "execute_result"
    }
   ],
   "source": [
    "ds_in = xr.open_dataset(inpath + infn)\n",
    "ds_in"
   ]
  },
  {
   "cell_type": "markdown",
   "metadata": {},
   "source": [
    "# Sort by Time"
   ]
  },
  {
   "cell_type": "code",
   "execution_count": 4,
   "metadata": {},
   "outputs": [
    {
     "data": {
      "text/plain": [
       "<xarray.Dataset>\n",
       "Dimensions:    (depth: 97, time: 342256)\n",
       "Coordinates:\n",
       "  * time       (time) datetime64[ns] 1770-01-01 1770-01-01 ... 2020-07-07\n",
       "  * depth      (depth) int64 0 5 10 15 20 25 ... 4500 4600 4700 4800 4900 5000\n",
       "Data variables:\n",
       "    temp       (time, depth) float64 33.11 nan nan nan nan ... nan nan nan nan\n",
       "    sal        (time, depth) float64 nan nan nan nan nan ... nan nan nan nan nan\n",
       "    doxy       (time, depth) float64 nan nan nan nan nan ... nan nan nan nan nan\n",
       "    nitrate    (time, depth) float64 nan nan nan nan nan ... nan nan nan nan nan\n",
       "    phosphate  (time, depth) float64 nan nan nan nan nan ... nan nan nan nan nan\n",
       "    lat        (time) float32 14.366667 14.433333 16.95 ... 12.35 13.299\n",
       "    lon        (time) float32 99.583336 54.083332 64.35 ... 81.21667 92.1 87.454\n",
       "    cast_id    (time) object 'OSD_9540691' 'OSD_9540856' ... 'PFL_19992885'\n",
       "Attributes:\n",
       "    date_created:           11/10/2021\n",
       "    unmerged_data_url:      https://www.ncei.noaa.gov/access/world-ocean-data...\n",
       "    geospatial_lat_extent:  decimal degrees north (-2.11,48.733334)\n",
       "    geospatial_lon_extent:  decimal degrees east (-163.332,102.5)\n",
       "    help_email:             OCLhelp@noaa.gov\n",
       "    history:                Merged ../latest/*.nc"
      ]
     },
     "execution_count": 4,
     "metadata": {},
     "output_type": "execute_result"
    }
   ],
   "source": [
    "# round times to nearest day\n",
    "ds_in[\"time\"] = ds_in.time.dt.floor(\"D\")\n",
    "\n",
    "# # add time as a coordinate\n",
    "ds_in = ds_in.assign_coords(unsorted_time=ds_in.time)\n",
    "\n",
    "# reset profile variables to be with respect to time\n",
    "ds_in['temp'] = xr.DataArray(ds_in.temp,dims = ['unsorted_time','depth'],coords =[ds_in.time,ds_in.depth])\n",
    "ds_in['sal'] = xr.DataArray(ds_in.sal,dims = ['unsorted_time','depth'],coords =[ds_in.time,ds_in.depth])\n",
    "ds_in['doxy'] = xr.DataArray(ds_in.doxy,dims = ['unsorted_time','depth'],coords =[ds_in.time,ds_in.depth])\n",
    "ds_in['nitrate'] = xr.DataArray(ds_in.nitrate,dims = ['unsorted_time','depth'],coords =[ds_in.time,ds_in.depth])\n",
    "ds_in['phosphate'] = xr.DataArray(ds_in.phosphate,dims = ['unsorted_time','depth'],coords =[ds_in.time,ds_in.depth])\n",
    "ds_in['lat'] = xr.DataArray(ds_in.lat,dims = ['unsorted_time'],coords =[ds_in.time])\n",
    "ds_in['lon'] = xr.DataArray(ds_in.lon,dims = ['unsorted_time'],coords =[ds_in.time])\n",
    "ds_in['cast_id'] = xr.DataArray(ds_in.cast_id,dims = ['unsorted_time'],coords =[ds_in.time])\n",
    "# get rid of intial time variable\n",
    "ds_in = ds_in[['temp','sal','doxy','nitrate','phosphate','lat','lon','cast_id']]\n",
    "\n",
    "sorted_time = ds_in.unsorted_time.sortby(ds_in.unsorted_time)\n",
    "\n",
    "# sort based on time\n",
    "ds_in['temp'] = xr.DataArray(ds_in.temp.sortby(ds_in.unsorted_time),dims = ['time','depth'],coords =[sorted_time,ds_in.depth])\n",
    "ds_in['sal'] = xr.DataArray(ds_in.sal.sortby(ds_in.unsorted_time),dims = ['time','depth'],coords =[sorted_time,ds_in.depth])\n",
    "ds_in['doxy'] = xr.DataArray(ds_in.doxy.sortby(ds_in.unsorted_time),dims = ['time','depth'],coords =[sorted_time,ds_in.depth])\n",
    "ds_in['nitrate'] = xr.DataArray(ds_in.nitrate.sortby(ds_in.unsorted_time),dims = ['time','depth'],coords =[sorted_time,ds_in.depth])\n",
    "ds_in['phosphate'] = xr.DataArray(ds_in.phosphate.sortby(ds_in.unsorted_time),dims = ['time','depth'],coords =[sorted_time,ds_in.depth])\n",
    "ds_in['lat'] = xr.DataArray(ds_in.lat.sortby(ds_in.unsorted_time),dims = ['time'],coords =[sorted_time])\n",
    "ds_in['lon'] = xr.DataArray(ds_in.lon.sortby(ds_in.unsorted_time),dims = ['time'],coords =[sorted_time])\n",
    "ds_in['cast_id'] = xr.DataArray(ds_in.cast_id.sortby(ds_in.unsorted_time),dims = ['time'],coords =[sorted_time])\n",
    "ds_in = ds_in[['temp','sal','doxy','nitrate','phosphate','lat','lon','cast_id','time']]\n",
    "ds_in"
   ]
  },
  {
   "cell_type": "markdown",
   "metadata": {},
   "source": [
    "# Subset in Time"
   ]
  },
  {
   "cell_type": "code",
   "execution_count": 5,
   "metadata": {},
   "outputs": [
    {
     "data": {
      "text/plain": [
       "<xarray.Dataset>\n",
       "Dimensions:    (depth: 97, time: 334338)\n",
       "Coordinates:\n",
       "  * time       (time) datetime64[ns] 1958-01-02 1958-01-02 ... 2020-05-31\n",
       "  * depth      (depth) int64 0 5 10 15 20 25 ... 4500 4600 4700 4800 4900 5000\n",
       "Data variables:\n",
       "    temp       (time, depth) float64 25.0 25.0 25.01 25.02 ... nan nan nan nan\n",
       "    sal        (time, depth) float64 nan nan nan nan nan ... nan nan nan nan nan\n",
       "    doxy       (time, depth) float64 nan nan nan nan nan ... nan nan nan nan nan\n",
       "    nitrate    (time, depth) float64 nan nan nan nan nan ... nan nan nan nan nan\n",
       "    phosphate  (time, depth) float64 nan nan nan nan nan ... nan nan nan nan nan\n",
       "    lat        (time) float32 12.233334 6.483333 6.9833336 ... 15.8443 13.862\n",
       "    lon        (time) float32 49.416668 78.48333 76.86667 ... 57.72186 67.64\n",
       "    cast_id    (time) object 'MBT_1158407' 'MBT_1158428' ... 'PFL_19977773'\n",
       "Attributes:\n",
       "    date_created:           11/10/2021\n",
       "    unmerged_data_url:      https://www.ncei.noaa.gov/access/world-ocean-data...\n",
       "    geospatial_lat_extent:  decimal degrees north (-2.11,48.733334)\n",
       "    geospatial_lon_extent:  decimal degrees east (-163.332,102.5)\n",
       "    help_email:             OCLhelp@noaa.gov\n",
       "    history:                Merged ../latest/*.nc"
      ]
     },
     "execution_count": 5,
     "metadata": {},
     "output_type": "execute_result"
    }
   ],
   "source": [
    "time_slice = slice(ts, te)\n",
    "ds_out = ds_in.sel(time = time_slice)\n",
    "ds_out"
   ]
  },
  {
   "cell_type": "code",
   "execution_count": 6,
   "metadata": {},
   "outputs": [
    {
     "data": {
      "text/plain": [
       "Text(0.5, 1.0, 'WOD Profiles from 1948-2020 from raw WOD subsetting in space')"
      ]
     },
     "execution_count": 6,
     "metadata": {},
     "output_type": "execute_result"
    },
    {
     "data": {
      "image/png": "[encoded data removed]",
      "text/plain": [
       "<Figure size 432x288 with 1 Axes>"
      ]
     },
     "metadata": {
      "needs_background": "light"
     },
     "output_type": "display_data"
    }
   ],
   "source": [
    "plt.scatter(ds_out.lon,ds_out.lat)\n",
    "plt.title('WOD Profiles from 1948-2020 from raw WOD subsetting in space')"
   ]
  },
  {
   "cell_type": "markdown",
   "metadata": {},
   "source": [
    "# Resubset in space - WOD subsetting missed a few points"
   ]
  },
  {
   "cell_type": "code",
   "execution_count": 7,
   "metadata": {},
   "outputs": [
    {
     "data": {
      "text/plain": [
       "Text(0.5, 1.0, 'WOD Profiles from 1958-2020 with refined spatial subsetting')"
      ]
     },
     "execution_count": 7,
     "metadata": {},
     "output_type": "execute_result"
    },
    {
     "data": {
      "image/png": "[encoded data removed]",
      "text/plain": [
       "<Figure size 432x288 with 1 Axes>"
      ]
     },
     "metadata": {
      "needs_background": "light"
     },
     "output_type": "display_data"
    }
   ],
   "source": [
    "## intial general subset\n",
    "ind = (ds_out.lon < lon_bounds[1]) & (ds_out.lon > lon_bounds[0]) & (ds_out.lat < lat_bounds[1]) & (ds_out.lat > lat_bounds[0])\n",
    "\n",
    "lat = ds_out.lat[ind]\n",
    "lon = ds_out.lon[ind]\n",
    "temp = ds_out.temp[ind,:]\n",
    "sal = ds_out.sal[ind,:]\n",
    "doxy = ds_out.doxy[ind,:]\n",
    "nitrate = ds_out.nitrate[ind,:]\n",
    "phosphate = ds_out.phosphate[ind,:]\n",
    "cast_id = ds_out.cast_id[ind]\n",
    "t = ds_out.time[ind]\n",
    "depth = ds_out.depth\n",
    "\n",
    "# below trims the data on land etc.\n",
    "\n",
    "# take away outside BoB\n",
    "ind = (lon < 110) & (lon > 99) & (lat < 15) & (lat > 8)\n",
    "\n",
    "lat = lat[~ind]\n",
    "lon = lon[~ind]\n",
    "temp = temp[~ind,:]\n",
    "sal = sal[~ind,:]\n",
    "doxy = doxy[~ind,:]\n",
    "nitrate = nitrate[~ind,:]\n",
    "phosphate = phosphate[~ind,:]\n",
    "cast_id = cast_id[~ind]\n",
    "t = t[~ind]\n",
    "\n",
    "ind = (lon < 110) & (lon > 100) & (lat < 9) & (lat > 5)\n",
    "\n",
    "lat = lat[~ind]\n",
    "lon = lon[~ind]\n",
    "temp = temp[~ind,:]\n",
    "sal = sal[~ind,:]\n",
    "doxy = doxy[~ind,:]\n",
    "nitrate = nitrate[~ind,:]\n",
    "phosphate = phosphate[~ind,:]\n",
    "cast_id = cast_id[~ind]\n",
    "t = t[~ind]\n",
    "\n",
    "ind = (lon < 57.5) & (lon > 45) & (lat < 30) & (lat > 22)\n",
    "\n",
    "lat = lat[~ind]\n",
    "lon = lon[~ind]\n",
    "temp = temp[~ind,:]\n",
    "sal = sal[~ind,:]\n",
    "doxy = doxy[~ind,:]\n",
    "nitrate = nitrate[~ind,:]\n",
    "phosphate = phosphate[~ind,:]\n",
    "cast_id = cast_id[~ind]\n",
    "t = t[~ind]\n",
    "\n",
    "ind = (lon < 60) & (lon > 45) & (lat < 32) & (lat > 28)\n",
    "\n",
    "lat = lat[~ind]\n",
    "lon = lon[~ind]\n",
    "temp = temp[~ind,:]\n",
    "sal = sal[~ind,:]\n",
    "doxy = doxy[~ind,:]\n",
    "nitrate = nitrate[~ind,:]\n",
    "phosphate = phosphate[~ind,:]\n",
    "cast_id = cast_id[~ind]\n",
    "t = t[~ind]\n",
    "\n",
    "ind = (lon < 82) & (lon > 70) & (lat < 32) & (lat > 21)\n",
    "\n",
    "lat = lat[~ind]\n",
    "lon = lon[~ind]\n",
    "temp = temp[~ind,:]\n",
    "sal = sal[~ind,:]\n",
    "doxy = doxy[~ind,:]\n",
    "nitrate = nitrate[~ind,:]\n",
    "phosphate = phosphate[~ind,:]\n",
    "cast_id = cast_id[~ind]\n",
    "t = t[~ind]\n",
    "\n",
    "ind = (lon < 104) & (lon > 94) & (lat < 32) & (lat > 19)\n",
    "\n",
    "lat = lat[~ind]\n",
    "lon = lon[~ind]\n",
    "temp = temp[~ind,:]\n",
    "sal = sal[~ind,:]\n",
    "doxy = doxy[~ind,:]\n",
    "nitrate = nitrate[~ind,:]\n",
    "phosphate = phosphate[~ind,:]\n",
    "cast_id = cast_id[~ind]\n",
    "t = t[~ind]\n",
    "\n",
    "plt.scatter(lon,lat)\n",
    "plt.title('WOD Profiles from 1958-2020 with refined spatial subsetting')"
   ]
  },
  {
   "cell_type": "code",
   "execution_count": 8,
   "metadata": {},
   "outputs": [
    {
     "data": {
      "text/plain": [
       "<xarray.Dataset>\n",
       "Dimensions:    (depth: 97, time: 316656)\n",
       "Coordinates:\n",
       "  * time       (time) datetime64[ns] 1958-01-02 1958-01-02 ... 2020-05-31\n",
       "  * depth      (depth) int64 0 5 10 15 20 25 ... 4500 4600 4700 4800 4900 5000\n",
       "Data variables:\n",
       "    temp       (time, depth) float64 25.0 25.0 25.01 25.02 ... nan nan nan nan\n",
       "    sal        (time, depth) float64 nan nan nan nan nan ... nan nan nan nan nan\n",
       "    doxy       (time, depth) float64 nan nan nan nan nan ... nan nan nan nan nan\n",
       "    nitrate    (time, depth) float64 nan nan nan nan nan ... nan nan nan nan nan\n",
       "    phosphate  (time, depth) float64 nan nan nan nan nan ... nan nan nan nan nan\n",
       "    lat        (time) float32 12.233334 6.483333 6.9833336 ... 15.8443 13.862\n",
       "    lon        (time) float32 49.416668 78.48333 76.86667 ... 57.72186 67.64\n",
       "    cast_id    (time) object 'MBT_1158407' 'MBT_1158428' ... 'PFL_19977773'"
      ]
     },
     "execution_count": 8,
     "metadata": {},
     "output_type": "execute_result"
    }
   ],
   "source": [
    "ds_out=xr.Dataset(coords={'time': t,\n",
    "                        'depth': depth})\n",
    "# add to dataset\n",
    "ds_out['temp'] = xr.DataArray(temp,dims = ['time','depth'],coords =[t,depth])\n",
    "ds_out['sal'] = xr.DataArray(sal,dims = ['time','depth'],coords =[t,depth])\n",
    "ds_out['doxy'] = xr.DataArray(doxy,dims = ['time','depth'],coords =[t,depth])\n",
    "ds_out['nitrate'] = xr.DataArray(nitrate,dims = ['time','depth'],coords =[t,depth])\n",
    "ds_out['phosphate'] = xr.DataArray(phosphate,dims = ['time','depth'],coords =[t,depth])\n",
    "ds_out['lat'] = xr.DataArray(lat,dims = ['time'],coords =[t])\n",
    "ds_out['lon'] = xr.DataArray(lon,dims = ['time'],coords =[t])\n",
    "ds_out['cast_id'] = xr.DataArray(cast_id,dims = ['time'],coords =[t])\n",
    "ds_out "
   ]
  },
  {
   "cell_type": "markdown",
   "metadata": {},
   "source": [
    "# Solubility"
   ]
  },
  {
   "cell_type": "code",
   "execution_count": 9,
   "metadata": {},
   "outputs": [
    {
     "data": {
      "text/plain": [
       "<xarray.DataArray (time: 316656, depth: 97)>\n",
       "array([[       nan,        nan,        nan, ...,        nan,        nan,\n",
       "               nan],\n",
       "       [       nan,        nan,        nan, ...,        nan,        nan,\n",
       "               nan],\n",
       "       [       nan,        nan,        nan, ...,        nan,        nan,\n",
       "               nan],\n",
       "       ...,\n",
       "       [188.339167, 188.34072 , 188.36943 , ...,        nan,        nan,\n",
       "               nan],\n",
       "       [189.095555, 189.089674, 189.082614, ...,        nan,        nan,\n",
       "               nan],\n",
       "       [185.877122, 185.873213, 185.870287, ...,        nan,        nan,\n",
       "               nan]])\n",
       "Coordinates:\n",
       "  * time     (time) datetime64[ns] 1958-01-02 1958-01-02 ... 2020-05-31\n",
       "  * depth    (depth) int64 0 5 10 15 20 25 30 ... 4500 4600 4700 4800 4900 5000"
      ]
     },
     "execution_count": 9,
     "metadata": {},
     "output_type": "execute_result"
    }
   ],
   "source": [
    "sol = o2sat(ds_out.temp,ds_out.sal)\n",
    "sol"
   ]
  },
  {
   "cell_type": "markdown",
   "metadata": {},
   "source": [
    "# Water Column Averages"
   ]
  },
  {
   "cell_type": "code",
   "execution_count": 10,
   "metadata": {},
   "outputs": [
    {
     "name": "stderr",
     "output_type": "stream",
     "text": [
      "/home/jennap/anaconda3/lib/python3.7/site-packages/ipykernel_launcher.py:4: RuntimeWarning: Mean of empty slice\n",
      "  after removing the cwd from sys.path.\n",
      "/home/jennap/anaconda3/lib/python3.7/site-packages/ipykernel_launcher.py:5: RuntimeWarning: Mean of empty slice\n",
      "  \"\"\"\n",
      "/home/jennap/anaconda3/lib/python3.7/site-packages/ipykernel_launcher.py:6: RuntimeWarning: Mean of empty slice\n",
      "  \n",
      "/home/jennap/anaconda3/lib/python3.7/site-packages/ipykernel_launcher.py:7: RuntimeWarning: Mean of empty slice\n",
      "  import sys\n",
      "/home/jennap/anaconda3/lib/python3.7/site-packages/ipykernel_launcher.py:8: RuntimeWarning: Mean of empty slice\n",
      "  \n",
      "/home/jennap/anaconda3/lib/python3.7/site-packages/ipykernel_launcher.py:13: RuntimeWarning: Mean of empty slice\n",
      "  del sys.path[0]\n",
      "/home/jennap/anaconda3/lib/python3.7/site-packages/ipykernel_launcher.py:14: RuntimeWarning: Mean of empty slice\n",
      "  \n",
      "/home/jennap/anaconda3/lib/python3.7/site-packages/ipykernel_launcher.py:15: RuntimeWarning: Mean of empty slice\n",
      "  from ipykernel import kernelapp as app\n",
      "/home/jennap/anaconda3/lib/python3.7/site-packages/ipykernel_launcher.py:16: RuntimeWarning: Mean of empty slice\n",
      "  app.launch_new_instance()\n",
      "/home/jennap/anaconda3/lib/python3.7/site-packages/ipykernel_launcher.py:17: RuntimeWarning: Mean of empty slice\n",
      "/home/jennap/anaconda3/lib/python3.7/site-packages/ipykernel_launcher.py:18: RuntimeWarning: Mean of empty slice\n",
      "/home/jennap/anaconda3/lib/python3.7/site-packages/ipykernel_launcher.py:23: RuntimeWarning: Mean of empty slice\n",
      "/home/jennap/anaconda3/lib/python3.7/site-packages/ipykernel_launcher.py:24: RuntimeWarning: Mean of empty slice\n",
      "/home/jennap/anaconda3/lib/python3.7/site-packages/ipykernel_launcher.py:25: RuntimeWarning: Mean of empty slice\n",
      "/home/jennap/anaconda3/lib/python3.7/site-packages/ipykernel_launcher.py:26: RuntimeWarning: Mean of empty slice\n",
      "/home/jennap/anaconda3/lib/python3.7/site-packages/ipykernel_launcher.py:27: RuntimeWarning: Mean of empty slice\n"
     ]
    }
   ],
   "source": [
    "# find mean temperature and doxy 40-200m\n",
    "ind = (ds_out.depth>= 40) & (ds_out.depth<= 200)\n",
    "\n",
    "doxy_40_200 = np.nanmean(ds_out.doxy[:,ind],1)\n",
    "temp_40_200 = np.nanmean(ds_out.temp[:,ind],1)\n",
    "sal_40_200 = np.nanmean(ds_out.sal[:,ind],1)\n",
    "nitrate_40_200 = np.nanmean(ds_out.nitrate[:,ind],1)\n",
    "phosphate_40_200 = np.nanmean(ds_out.phosphate[:,ind],1)\n",
    "\n",
    "# find mean temperature, doxy, and sol 50-200m\n",
    "ind = (ds_out.depth>= 50) & (ds_out.depth<= 200)\n",
    "\n",
    "doxy_50_200 = np.nanmean(ds_out.doxy[:,ind],1)\n",
    "temp_50_200 = np.nanmean(ds_out.temp[:,ind],1)\n",
    "sal_50_200 = np.nanmean(ds_out.sal[:,ind],1)\n",
    "nitrate_50_200 = np.nanmean(ds_out.nitrate[:,ind],1)\n",
    "phosphate_50_200 = np.nanmean(ds_out.phosphate[:,ind],1)\n",
    "sol_50_200 = np.nanmean(sol[:,ind],1)\n",
    "\n",
    "# find mean temperature and doxy 50-225m\n",
    "ind = (ds_out.depth>= 50) & (ds_out.depth<= 225)\n",
    "\n",
    "doxy_50_225 = np.nanmean(ds_out.doxy[:,ind],1)\n",
    "temp_50_225 = np.nanmean(ds_out.temp[:,ind],1)\n",
    "sal_50_225 = np.nanmean(ds_out.sal[:,ind],1)\n",
    "nitrate_50_225 = np.nanmean(ds_out.nitrate[:,ind],1)\n",
    "phosphate_50_225 = np.nanmean(ds_out.phosphate[:,ind],1)\n",
    "\n",
    "# add to dataset\n",
    "ds_out['temp_40_200'] = xr.DataArray(temp_40_200,dims = ['time'],coords =[ds_out.time])\n",
    "ds_out['doxy_40_200'] = xr.DataArray(doxy_40_200,dims = ['time'],coords =[ds_out.time])\n",
    "ds_out['sal_40_200'] = xr.DataArray(sal_40_200,dims = ['time'],coords =[ds_out.time])\n",
    "ds_out['nitrate_40_200'] = xr.DataArray(nitrate_40_200,dims = ['time'],coords =[ds_out.time])\n",
    "ds_out['phosphate_40_200'] = xr.DataArray(phosphate_40_200,dims = ['time'],coords =[ds_out.time])\n",
    "\n",
    "ds_out['temp_50_200'] = xr.DataArray(temp_50_200,dims = ['time'],coords =[ds_out.time])\n",
    "ds_out['doxy_50_200'] = xr.DataArray(doxy_50_200,dims = ['time'],coords =[ds_out.time])\n",
    "ds_out['sal_50_200'] = xr.DataArray(sal_50_200,dims = ['time'],coords =[ds_out.time])\n",
    "ds_out['nitrate_50_200'] = xr.DataArray(nitrate_50_200,dims = ['time'],coords =[ds_out.time])\n",
    "ds_out['phosphate_50_200'] = xr.DataArray(phosphate_50_200,dims = ['time'],coords =[ds_out.time])\n",
    "ds_out['sol_50_200'] = xr.DataArray(sol_50_200,dims = ['time'],coords =[ds_out.time])\n",
    "\n",
    "ds_out['temp_50_225'] = xr.DataArray(temp_50_225,dims = ['time'],coords =[ds_out.time])\n",
    "ds_out['doxy_50_225'] = xr.DataArray(doxy_50_225,dims = ['time'],coords =[ds_out.time])\n",
    "ds_out['sal_50_225'] = xr.DataArray(sal_50_225,dims = ['time'],coords =[ds_out.time])\n",
    "ds_out['nitrate_50_225'] = xr.DataArray(nitrate_50_225,dims = ['time'],coords =[ds_out.time])\n",
    "ds_out['phosphate_50_225'] = xr.DataArray(phosphate_50_225,dims = ['time'],coords =[ds_out.time])\n"
   ]
  },
  {
   "cell_type": "markdown",
   "metadata": {},
   "source": [
    "# Save Data"
   ]
  },
  {
   "cell_type": "code",
   "execution_count": 11,
   "metadata": {},
   "outputs": [
    {
     "data": {
      "text/plain": [
       "<xarray.Dataset>\n",
       "Dimensions:           (depth: 97, time: 316656)\n",
       "Coordinates:\n",
       "  * time              (time) datetime64[ns] 1958-01-02 1958-01-02 ... 2020-05-31\n",
       "  * depth             (depth) int64 0 5 10 15 20 25 ... 4600 4700 4800 4900 5000\n",
       "Data variables:\n",
       "    temp              (time, depth) float64 25.0 25.0 25.01 ... nan nan nan\n",
       "    sal               (time, depth) float64 nan nan nan nan ... nan nan nan nan\n",
       "    doxy              (time, depth) float64 nan nan nan nan ... nan nan nan nan\n",
       "    nitrate           (time, depth) float64 nan nan nan nan ... nan nan nan nan\n",
       "    phosphate         (time, depth) float64 nan nan nan nan ... nan nan nan nan\n",
       "    lat               (time) float32 12.233334 6.483333 ... 15.8443 13.862\n",
       "    lon               (time) float32 49.416668 78.48333 ... 57.72186 67.64\n",
       "    cast_id           (time) object 'MBT_1158407' ... 'PFL_19977773'\n",
       "    temp_40_200       (time) float64 24.87 nan nan nan ... nan 24.28 23.95 25.41\n",
       "    doxy_40_200       (time) float64 nan nan nan nan nan ... nan nan nan 120.3\n",
       "    sal_40_200        (time) float64 nan nan nan nan ... 34.96 35.15 36.06 36.13\n",
       "    nitrate_40_200    (time) float64 nan nan nan nan nan ... nan nan nan nan nan\n",
       "    phosphate_40_200  (time) float64 nan nan nan nan nan ... nan nan nan nan nan\n",
       "    temp_50_200       (time) float64 24.82 nan nan nan ... nan 23.43 23.55 24.88\n",
       "    doxy_50_200       (time) float64 nan nan nan nan nan ... nan nan nan 111.1\n",
       "    sal_50_200        (time) float64 nan nan nan nan ... 35.04 35.18 36.07 36.12\n",
       "    nitrate_50_200    (time) float64 nan nan nan nan nan ... nan nan nan nan nan\n",
       "    phosphate_50_200  (time) float64 nan nan nan nan nan ... nan nan nan nan nan\n",
       "    sol_50_200        (time) float64 nan nan nan nan ... nan 214.1 210.5 206.2\n",
       "    temp_50_225       (time) float64 24.82 nan nan nan ... nan 22.76 23.14 24.31\n",
       "    doxy_50_225       (time) float64 nan nan nan nan nan ... nan nan nan 104.2\n",
       "    sal_50_225        (time) float64 nan nan nan nan ... 35.04 35.17 36.06 36.09\n",
       "    nitrate_50_225    (time) float64 nan nan nan nan nan ... nan nan nan nan nan\n",
       "    phosphate_50_225  (time) float64 nan nan nan nan nan ... nan nan nan nan nan"
      ]
     },
     "execution_count": 11,
     "metadata": {},
     "output_type": "execute_result"
    }
   ],
   "source": [
    "# delete if already present\n",
    "if os.path.isfile(outfn):\n",
    "    os.remove(outfn)\n",
    "\n",
    "ds_out.to_netcdf(outfn,mode='w',format = \"NETCDF4\")\n",
    "ds_out"
   ]
  },
  {
   "cell_type": "code",
   "execution_count": null,
   "metadata": {},
   "outputs": [],
   "source": []
  }
 ],
 "metadata": {
  "kernelspec": {
   "display_name": "Python 3",
   "language": "python",
   "name": "python3"
  },
  "language_info": {
   "codemirror_mode": {
    "name": "ipython",
    "version": 3
   },
   "file_extension": ".py",
   "mimetype": "text/x-python",
   "name": "python",
   "nbconvert_exporter": "python",
   "pygments_lexer": "ipython3",
   "version": "3.7.3"
  }
 },
 "nbformat": 4,
 "nbformat_minor": 2
}
